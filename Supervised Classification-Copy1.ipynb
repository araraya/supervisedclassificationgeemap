{
 "cells": [
  {
   "cell_type": "raw",
   "metadata": {},
   "source": [
    "BUKA IMAGE YANG DIBUTUHKAN"
   ]
  },
  {
   "cell_type": "code",
   "execution_count": 1,
   "metadata": {
    "scrolled": false
   },
   "outputs": [],
   "source": [
    "import ee\n",
    "import geemap\n",
    "\n",
    "Map = geemap.Map()\n",
    "\n",
    "point = ee.Geometry.Point([106.9942, -6.2764])\n",
    "\n",
    "\n",
    "image = ee.Image('LANDSAT/LC08/C01/T1_TOA/LC08_122064_20200422')\n",
    "Map.addLayer(\n",
    "    image,\n",
    "    {'bands': ['B4',  'B3',  'B2'], 'min': 0, 'max': 0.25, 'gamma': [1.1, 1.1, 1]},\n",
    "    'rgb')\n",
    "\n",
    "\n",
    "\n",
    "#Map.centerObject(image,8)\n",
    "\n",
    "#Map"
   ]
  },
  {
   "cell_type": "raw",
   "metadata": {},
   "source": [
    "BIKIN DATA TRAINING "
   ]
  },
  {
   "cell_type": "code",
   "execution_count": 3,
   "metadata": {
    "scrolled": false
   },
   "outputs": [],
   "source": [
    "developed1 = ee.Geometry.Point([106.9860, -6.2144]).buffer(100)\n",
    "developed2 = ee.Geometry.Point([106.9877, -6.2143]).buffer(100)\n",
    "developed3 = ee.Geometry.Point([106.9801, -6.2209]).buffer(100)\n",
    "developed4 = ee.Geometry.Point([106.98, -6.24]).buffer(100)\n",
    "developed5 = ee.Geometry.Point([106.99, -6.24]).buffer(100)\n",
    "water1 = ee.Geometry.Point([106.9836, -6.2749]).buffer(10)\n",
    "water2 = ee.Geometry.Point([106.9794, -6.2770]).buffer(10)\n",
    "water3 = ee.Geometry.Point([106.9751, -6.2905]).buffer(10)\n",
    "water4 = ee.Geometry.Point([106.9751, -6.2905]).buffer(10)\n",
    "water5 = ee.Geometry.Point([106.9722, -6.2951]).buffer(10)\n",
    "open_field1 = ee.Geometry.Point([106.9772, -6.3021]).buffer(100)\n",
    "open_field2 = ee.Geometry.Point([106.9528, -6.2816]).buffer(100)\n",
    "open_field3 = ee.Geometry.Point([106.947,-6.2997]).buffer(100)\n",
    "open_field4 = ee.Geometry.Point([106.9536,-6.2937]).buffer(100)\n",
    "open_field5 = ee.Geometry.Point([106.9552,-6.3421]).buffer(100)\n",
    "\n",
    "#Jadiin satu data training\n",
    "points = ee.FeatureCollection([\n",
    "  ee.Feature(developed1, {'landcover': 0}),\n",
    "  ee.Feature(developed2, {'landcover': 0}),\n",
    "  ee.Feature(developed3, {'landcover': 0}),\n",
    "  ee.Feature(developed4, {'landcover': 0}),\n",
    "  ee.Feature(developed5, {'landcover': 0}),\n",
    "  ee.Feature(water1, {'landcover': 1}),\n",
    "  ee.Feature(water2, {'landcover': 1}),\n",
    "  ee.Feature(water3, {'landcover': 1}),\n",
    "  ee.Feature(water4, {'landcover': 1}),\n",
    "  ee.Feature(water5, {'landcover': 1}),  \n",
    "  ee.Feature(open_field1, {'landcover': 2}),\n",
    "  ee.Feature(open_field2, {'landcover': 2}),\n",
    "  ee.Feature(open_field3, {'landcover': 2}),\n",
    "  ee.Feature(open_field4, {'landcover': 2}),\n",
    "  ee.Feature(open_field5, {'landcover': 2}),\n",
    "])\n",
    "\n",
    "#Map.addLayer(points, {}, 'training', False)\n",
    "\n",
    "#Map.centerObject(kota_bekasi,12)\n",
    "\n",
    "#Map"
   ]
  },
  {
   "cell_type": "raw",
   "metadata": {},
   "source": [
    "JALANKAN DATA TRAINING "
   ]
  },
  {
   "cell_type": "code",
   "execution_count": 4,
   "metadata": {},
   "outputs": [],
   "source": [
    "# Use these bands for prediction.\n",
    "bands = ['B1', 'B2', 'B3', 'B4', 'B5', 'B6', 'B7']\n",
    "\n",
    "\n",
    "# This property of the table stores the land cover labels.\n",
    "label = 'landcover'\n",
    "\n",
    "# Overlay the points on the imagery to get training.\n",
    "training = image.select(bands).sampleRegions(**{\n",
    "  'collection': points,\n",
    "  'properties': [label],\n",
    "  'scale': 30\n",
    "})\n",
    "\n",
    "# Train a CART classifier with default parameters.\n",
    "trained = ee.Classifier.smileCart().train(training, label, bands)\n"
   ]
  },
  {
   "cell_type": "code",
   "execution_count": 5,
   "metadata": {
    "scrolled": false
   },
   "outputs": [
    {
     "name": "stdout",
     "output_type": "stream",
     "text": [
      "{'type': 'Feature', 'geometry': None, 'id': '0_0', 'properties': {'B1': 0.15847483277320862, 'B2': 0.13851679861545563, 'B3': 0.1245771050453186, 'B4': 0.1351151317358017, 'B5': 0.20752543210983276, 'B6': 0.2366180121898651, 'B7': 0.18911361694335938, 'landcover': 0}}\n"
     ]
    }
   ],
   "source": [
    "print(training.first().getInfo())"
   ]
  },
  {
   "cell_type": "raw",
   "metadata": {},
   "source": [
    "KLASIFIKASI"
   ]
  },
  {
   "cell_type": "code",
   "execution_count": 6,
   "metadata": {},
   "outputs": [],
   "source": [
    "# Classify the image with the same bands used for training.\n",
    "result = image.select(bands).classify(trained)\n",
    "\n",
    "# # Display the clusters with random colors.\n",
    "#Map.addLayer(result.randomVisualizer(), {}, 'classified')\n",
    "#Map"
   ]
  },
  {
   "cell_type": "raw",
   "metadata": {},
   "source": [
    "CLIPPING KLASIFIKASI"
   ]
  },
  {
   "cell_type": "code",
   "execution_count": 7,
   "metadata": {
    "scrolled": true
   },
   "outputs": [],
   "source": [
    "kota_bekasi_klasifikasi = result.clip(cities.geometry())\n",
    "#Map.addLayer(kota_bekasi_klasifikasi.randomVisualizer(), {}, 'Bekasi City Classified')\n",
    "#Map"
   ]
  },
  {
   "cell_type": "raw",
   "metadata": {},
   "source": [
    "BIKIN LEGENDA"
   ]
  },
  {
   "cell_type": "code",
   "execution_count": 8,
   "metadata": {
    "scrolled": false
   },
   "outputs": [
    {
     "data": {
      "application/vnd.jupyter.widget-view+json": {
       "model_id": "4a375a22b7424e20b9881649e4884477",
       "version_major": 2,
       "version_minor": 0
      },
      "text/plain": [
       "Map(center=[-6.246151075999909, 107.04148116900006], controls=(WidgetControl(options=['position', 'transparent…"
      ]
     },
     "metadata": {},
     "output_type": "display_data"
    }
   ],
   "source": [
    "legend_keys = ['Developed', 'Open Field', 'Water']\n",
    "legend_colors = ['#eb6b34', '#23751a', '#6534eb']\n",
    "\n",
    "# Reclassify the map\n",
    "result = kota_bekasi_klasifikasi.remap([0, 1, 2], [1, 2, 3])\n",
    "\n",
    "Map.addLayer(kota_bekasi_klasifikasi, {'min': 1, 'max': 5, 'palette': legend_colors}, 'Landcover Bekasi')\n",
    "Map.add_legend(legend_keys=legend_keys, legend_colors=legend_colors, position='bottomright', \n",
    "               color='#e4ede6')\n",
    "\n",
    "\n",
    "Map.centerObject(kota_bekasi_klasifikasi,12)\n",
    "Map\n"
   ]
  },
  {
   "cell_type": "code",
   "execution_count": 9,
   "metadata": {},
   "outputs": [],
   "source": [
    "import os"
   ]
  },
  {
   "cell_type": "code",
   "execution_count": 10,
   "metadata": {},
   "outputs": [],
   "source": [
    "download_dir = os.path.join(os.path.expanduser('~'), 'Downloads')\n",
    "if not os.path.exists(download_dir):\n",
    "    os.makedirs(download_dir)\n",
    "html_file = os.path.join(download_dir, 'my_map.html')"
   ]
  },
  {
   "cell_type": "code",
   "execution_count": 11,
   "metadata": {},
   "outputs": [],
   "source": [
    "Map.to_html(outfile=html_file, title='My Map', width='100%', height='880px')"
   ]
  },
  {
   "cell_type": "code",
   "execution_count": null,
   "metadata": {},
   "outputs": [],
   "source": []
  },
  {
   "cell_type": "code",
   "execution_count": null,
   "metadata": {},
   "outputs": [],
   "source": []
  }
 ],
 "metadata": {
  "kernelspec": {
   "display_name": "Python 3",
   "language": "python",
   "name": "python3"
  },
  "language_info": {
   "codemirror_mode": {
    "name": "ipython",
    "version": 3
   },
   "file_extension": ".py",
   "mimetype": "text/x-python",
   "name": "python",
   "nbconvert_exporter": "python",
   "pygments_lexer": "ipython3",
   "version": "3.8.5"
  }
 },
 "nbformat": 4,
 "nbformat_minor": 4
}
